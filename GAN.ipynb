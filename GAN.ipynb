{
 "cells": [
  {
   "cell_type": "markdown",
   "metadata": {},
   "source": [
    "# pytorchでGANしてみる"
   ]
  },
  {
   "cell_type": "markdown",
   "metadata": {},
   "source": [
    "## torchのインストール"
   ]
  },
  {
   "cell_type": "code",
   "execution_count": null,
   "metadata": {
    "collapsed": true
   },
   "outputs": [],
   "source": [
    "%%bash\n",
    "pip3 install torch torchvision"
   ]
  },
  {
   "cell_type": "markdown",
   "metadata": {},
   "source": [
    "## なんか画像保存にエラーがあったので"
   ]
  },
  {
   "cell_type": "code",
   "execution_count": null,
   "metadata": {
    "collapsed": true
   },
   "outputs": [],
   "source": [
    "%%bash\n",
    "pip install Pillow==4.0.0\n",
    "pip install PIL\n",
    "pip install image"
   ]
  },
  {
   "cell_type": "markdown",
   "metadata": {},
   "source": [
    "## import群"
   ]
  },
  {
   "cell_type": "code",
   "execution_count": 21,
   "metadata": {
    "collapsed": true
   },
   "outputs": [],
   "source": [
    "import os\n",
    "\n",
    "import torch\n",
    "import torch.nn as nn\n",
    "import torch.optim as optim\n",
    "import pickle\n",
    "from torch.autograd import Variable\n",
    "from torch.utils.data import DataLoader\n",
    "from torchvision import datasets, transforms\n",
    "from torchvision.utils import save_image\n",
    "\n",
    "import matplotlib.pyplot as plt\n",
    "%matplotlib inline\n",
    "\n",
    "cuda = torch.cuda.is_available()\n",
    "if cuda :\n",
    "    print(\"cuda available\" )"
   ]
  },
  {
   "cell_type": "markdown",
   "metadata": {},
   "source": [
    "## pytorchのクラスについて\n",
    "- 畳み込み層\n",
    "```py\n",
    "class torch.nn.Conv2d(in_channels, out_channels, kernel_size, stride=1, padding=0, dilation=1, groups=1, bias=True)\n",
    "```\n",
    "- 正規化\n",
    "```py\n",
    "class torch.nn.BatchNorm2d(num_features, eps=1e-05, momentum=0.1, affine=True, track_running_stats=True)\n",
    "```\n",
    "- 拡張 (畳み込み層の逆)\n",
    "```py\n",
    "class torch.nn.ConvTranspose2d(in_channels, out_channels, kernel_size, stride=1, padding=0, output_padding=0, groups=1, bias=True, dilation=1)\n",
    "```"
   ]
  },
  {
   "cell_type": "markdown",
   "metadata": {},
   "source": [
    "## ネットワークの重みを初期化"
   ]
  },
  {
   "cell_type": "code",
   "execution_count": 3,
   "metadata": {
    "collapsed": true
   },
   "outputs": [],
   "source": [
    "def initialize_weights(model):\n",
    "    for m in model.modules():\n",
    "        if isinstance(m, nn.Conv2d):\n",
    "            m.weight.data.normal_(0, 0.02)\n",
    "            m.bias.data.zero_()\n",
    "        elif isinstance(m, nn.ConvTranspose2d):\n",
    "            m.weight.data.normal_(0, 0.02)\n",
    "            m.bias.data.zero_()\n",
    "        elif isinstance(m, nn.Linear):\n",
    "            m.weight.data.normal_(0, 0.02)\n",
    "            m.bias.data.zero_()\n",
    "            "
   ]
  },
  {
   "cell_type": "markdown",
   "metadata": {},
   "source": [
    "## Generatorクラス"
   ]
  },
  {
   "cell_type": "code",
   "execution_count": 8,
   "metadata": {
    "collapsed": true
   },
   "outputs": [],
   "source": [
    "class Generator(nn.Module):\n",
    "    def __init__(self):\n",
    "        super(Generator, self).__init__()\n",
    "        self.fc = nn.Sequential(\n",
    "            nn.Linear(62, 1024),\n",
    "            nn.BatchNorm1d(1024),\n",
    "            nn.ReLU(),\n",
    "            nn.Linear(1024, 128 * 7 * 7),\n",
    "            nn.BatchNorm1d(128 * 7 * 7),\n",
    "            nn.ReLU()\n",
    "        )\n",
    "        # 逆畳み込み層\n",
    "        self.deconv = nn.Sequential(\n",
    "            nn.ConvTranspose2d(128, 64, kernel_size=4, stride=2, padding=1),\n",
    "            nn.BatchNorm2d(64),\n",
    "            nn.ReLU(),\n",
    "            nn.ConvTranspose2d(64, 1, kernel_size=4, stride=2, padding=1),\n",
    "            nn.Sigmoid())\n",
    "        \n",
    "        initialize_weights(self)\n",
    "        \n",
    "    def forward(self, input):\n",
    "        x = self.fc(input)\n",
    "        x = x.view(-1, 128, 7, 7)\n",
    "        x = self.deconv(x)\n",
    "        return x"
   ]
  },
  {
   "cell_type": "markdown",
   "metadata": {},
   "source": [
    "## Discriminatorクラス"
   ]
  },
  {
   "cell_type": "code",
   "execution_count": 11,
   "metadata": {
    "collapsed": true
   },
   "outputs": [],
   "source": [
    "class Discriminator(nn.Module):\n",
    "    def __init__(self):\n",
    "        super(Discriminator, self).__init__()\n",
    "        self.conv = nn.Sequential(\n",
    "            nn.Conv2d(1, 64, kernel_size=4, stride=2, padding=1),\n",
    "            nn.LeakyReLU(0.2),\n",
    "            nn.Conv2d(64, 128, kernel_size=4, stride=2, padding=1),\n",
    "            nn.BatchNorm2d(128),\n",
    "            nn.LeakyReLU(0.2)\n",
    "        )\n",
    "        self.fc = nn.Sequential(\n",
    "            nn.Linear(128 * 7 * 7, 1024),\n",
    "            nn.BatchNorm1d(1024),\n",
    "            nn.LeakyReLU(0.2),\n",
    "            nn.Linear(1024, 1),\n",
    "            nn.Sigmoid()\n",
    "        )\n",
    "        initialize_weights(self)\n",
    "        \n",
    "    def forward(self, input):\n",
    "        x = self.conv(input)\n",
    "        x = x.view(-1, 128 * 7 * 7)\n",
    "        x = self.fc(x)\n",
    "        return x"
   ]
  },
  {
   "cell_type": "markdown",
   "metadata": {},
   "source": [
    "## 確認"
   ]
  },
  {
   "cell_type": "code",
   "execution_count": 12,
   "metadata": {},
   "outputs": [
    {
     "name": "stdout",
     "output_type": "stream",
     "text": [
      "Generator(\n",
      "  (fc): Sequential(\n",
      "    (0): Linear(in_features=62, out_features=1024, bias=True)\n",
      "    (1): BatchNorm1d(1024, eps=1e-05, momentum=0.1, affine=True, track_running_stats=True)\n",
      "    (2): ReLU()\n",
      "    (3): Linear(in_features=1024, out_features=6272, bias=True)\n",
      "    (4): BatchNorm1d(6272, eps=1e-05, momentum=0.1, affine=True, track_running_stats=True)\n",
      "    (5): ReLU()\n",
      "  )\n",
      "  (deconv): Sequential(\n",
      "    (0): ConvTranspose2d(128, 64, kernel_size=(4, 4), stride=(2, 2), padding=(1, 1))\n",
      "    (1): BatchNorm2d(64, eps=1e-05, momentum=0.1, affine=True, track_running_stats=True)\n",
      "    (2): ReLU()\n",
      "    (3): ConvTranspose2d(64, 1, kernel_size=(4, 4), stride=(2, 2), padding=(1, 1))\n",
      "    (4): Sigmoid()\n",
      "  )\n",
      ")\n",
      "Discriminator(\n",
      "  (conv): Sequential(\n",
      "    (0): Conv2d(1, 64, kernel_size=(4, 4), stride=(2, 2), padding=(1, 1))\n",
      "    (1): LeakyReLU(negative_slope=0.2)\n",
      "    (2): Conv2d(64, 128, kernel_size=(4, 4), stride=(2, 2), padding=(1, 1))\n",
      "    (3): BatchNorm2d(128, eps=1e-05, momentum=0.1, affine=True, track_running_stats=True)\n",
      "    (4): LeakyReLU(negative_slope=0.2)\n",
      "  )\n",
      "  (fc): Sequential(\n",
      "    (0): Linear(in_features=6272, out_features=1024, bias=True)\n",
      "    (1): BatchNorm1d(1024, eps=1e-05, momentum=0.1, affine=True, track_running_stats=True)\n",
      "    (2): LeakyReLU(negative_slope=0.2)\n",
      "    (3): Linear(in_features=1024, out_features=1, bias=True)\n",
      "    (4): Sigmoid()\n",
      "  )\n",
      ")\n"
     ]
    }
   ],
   "source": [
    "print(Generator())\n",
    "print(Discriminator())"
   ]
  },
  {
   "cell_type": "markdown",
   "metadata": {
    "collapsed": true
   },
   "source": [
    "## ハイパーパラメータ"
   ]
  },
  {
   "cell_type": "code",
   "execution_count": 15,
   "metadata": {
    "collapsed": true
   },
   "outputs": [],
   "source": [
    "batch_size = 128\n",
    "lr = 0.0002\n",
    "z_dim = 62\n",
    "num_epochs  = 25\n",
    "sample_num = 16\n",
    "log_dir = './logs'"
   ]
  },
  {
   "cell_type": "markdown",
   "metadata": {},
   "source": [
    "## ネットワークの生成\n",
    "Generator, Discriminatorで異なる最適化器を異なることに注意\n",
    "```py\n",
    "G.cuda()\n",
    "D.cuda()\n",
    "```\n",
    "でデータをGPUに転送する"
   ]
  },
  {
   "cell_type": "code",
   "execution_count": 16,
   "metadata": {
    "collapsed": true
   },
   "outputs": [],
   "source": [
    "G = Generator()\n",
    "D = Discriminator()\n",
    "\n",
    "if cuda:\n",
    "    G.cuda()\n",
    "    D.cuda()\n",
    "\n",
    "# 最適化\n",
    "G_optim = optim.Adam(G.parameters(), lr=lr, betas=(0.5, 0.999))\n",
    "D_optim = optim.Adam(D.parameters(), lr=lr, betas=(0.5, 0.999))\n",
    "\n",
    "# 損失\n",
    "criterion = nn.BCELoss()"
   ]
  },
  {
   "cell_type": "markdown",
   "metadata": {},
   "source": [
    "## データのロード"
   ]
  },
  {
   "cell_type": "code",
   "execution_count": 17,
   "metadata": {},
   "outputs": [
    {
     "name": "stdout",
     "output_type": "stream",
     "text": [
      "Downloading http://yann.lecun.com/exdb/mnist/train-images-idx3-ubyte.gz\n",
      "Downloading http://yann.lecun.com/exdb/mnist/train-labels-idx1-ubyte.gz\n",
      "Downloading http://yann.lecun.com/exdb/mnist/t10k-images-idx3-ubyte.gz\n",
      "Downloading http://yann.lecun.com/exdb/mnist/t10k-labels-idx1-ubyte.gz\n",
      "Processing...\n",
      "Done!\n"
     ]
    }
   ],
   "source": [
    "transform = transforms.Compose([\n",
    "    transforms.ToTensor()\n",
    "])\n",
    "dataset = datasets.MNIST('data/mnist', train=True, download=True, transform=transform)\n",
    "data_loader = DataLoader(dataset, batch_size=batch_size, shuffle=True)"
   ]
  },
  {
   "cell_type": "markdown",
   "metadata": {},
   "source": [
    "## 損失関数\n",
    "### Discriminatorの目的関数\n",
    "\\begin{align*}\n",
    "L_D = E[ \\log{D(x)}] + E[\\log\\left(1 - D(G(z))\\right) ] \\rightarrow \\max\n",
    "\\end{align*}\n",
    "- $D(\\cdot) \\in [0,1]$は$1$に近いほど本物と判定したことを意味する →Binary Cross Entropy Loss\n",
    "- $G(z)$は乱数$z$から生成した偽物画像\n",
    "- 第1項は本物$x$をちゃんと本物だと認識できれば大きくなる\n",
    "- 第２項は偽物$G(z)$がちゃんと偽物だと分かれば大きくなる\n",
    "### Generatorの目的関数\n",
    "\\begin{align*}\n",
    "L_G = E[ \\log(D(G(z)) ] \\rightarrow \\max\n",
    "\\end{align*}\n",
    "- Gの生成する偽物画像$G(z)$をDが本物だと思うほど値が大きくなる"
   ]
  },
  {
   "cell_type": "code",
   "execution_count": 20,
   "metadata": {
    "collapsed": true
   },
   "outputs": [],
   "source": [
    "def train(D, G, criterion, D_optim, G_optim, data_loader):\n",
    "    # 訓練モードに\n",
    "    D.train()\n",
    "    G.train()\n",
    "    \n",
    "    #本物のラベルは1, 偽物は0\n",
    "    y_real = Variable(torch.ones(batch_size, 1))\n",
    "    y_fake = Variable(torch.zeros(batch_size, 1))\n",
    "    \n",
    "    if cuda:\n",
    "        y_real = y_real.cuda()\n",
    "        y_fake = y_fake.cuda()\n",
    "    \n",
    "    D_running_loss = G_running_loss = 0\n",
    "    for batch_idx, (real_images, _) in enumerate(data_loader):\n",
    "        # バッチサイズに足りないなら無視\n",
    "        if real_images.size()[0] != batch_size:\n",
    "            break\n",
    "            \n",
    "        z = torch.rand((batch_size, z_dim))\n",
    "        # GPUに転送\n",
    "        if cuda:\n",
    "            real_images, z = real_images.cuda(), z.cuda()\n",
    "        real_images, z = Variable(real_images), Variable(z)\n",
    "        \n",
    "        #---------------------\n",
    "        # ●Discriminatorの更新\n",
    "        #---------------------\n",
    "        D_optim.zero_grad()\n",
    "        \n",
    "        # E[log(D(x))]\n",
    "        D_real = D(real_images)\n",
    "        D_real_loss = criterion(D_real, y_real)\n",
    "        \n",
    "        # E[ log(1 - D(G(z))) ] \n",
    "        fake_images = G(z)\n",
    "        D_fake = D(fake_images.detach()) # detachで勾配がGに伝わらないようにする\n",
    "        D_fake_loss = criterion(D_fake, y_fake)\n",
    "        \n",
    "        # Dの損失を計算し、更新\n",
    "        D_loss = D_real_loss + D_fake_loss\n",
    "        D_loss.backward()\n",
    "        D_optim.step()  # ここでGのパラメータが更新されることはない\n",
    "        D_running_loss += D_loss.data[0]\n",
    "        \n",
    "        #------------------\n",
    "        # ●Generatorの更新\n",
    "        #------------------\n",
    "        z = torch.rand((batch_size, z_dim))\n",
    "        if cuda:\n",
    "            z = z.cuda()\n",
    "        z = Variable(z)\n",
    "        \n",
    "        G_optim.zero_grad()\n",
    "        \n",
    "        # E[log(D(G(z)))]\n",
    "        fake_images = G(z)   # さっきdetachしてしまったので再利用できない\n",
    "        D_fake = D(fake_images)\n",
    "        G_loss = criterion(D_fake, y_real)\n",
    "        G_loss.backward()\n",
    "        G_optim.step()\n",
    "        G_running_loss += G_loss.data[0]\n",
    "        \n",
    "    D_running_loss /= len(data_loader)\n",
    "    G_running_loss /= len(data_loader)\n",
    "    \n",
    "    return D_running_loss, G_running_loss\n",
    "        "
   ]
  },
  {
   "cell_type": "markdown",
   "metadata": {},
   "source": [
    "## 画像生成関数"
   ]
  },
  {
   "cell_type": "code",
   "execution_count": 23,
   "metadata": {
    "collapsed": true
   },
   "outputs": [],
   "source": [
    "def generate(epoch, G, log_dir=\"logs\"):\n",
    "    G.eval()\n",
    "    \n",
    "    if not os.path.exists(log_dir):\n",
    "        os.makedirs(log_dir)\n",
    "        \n",
    "    sample_z = torch.rand((64, z_dim))\n",
    "    if cuda:\n",
    "        sample_z = sample_z.cuda()    \n",
    "    sample_z = Variable(sample_z, volatile=True)\n",
    "    \n",
    "    # Generatorでサンプル生成\n",
    "    samples = G(sample_z).data.cpu()\n",
    "    save_image(samples, os.path.join(log_dir, \"epoch_%03d.png\" % epoch))"
   ]
  },
  {
   "cell_type": "markdown",
   "metadata": {},
   "source": [
    "## main"
   ]
  },
  {
   "cell_type": "code",
   "execution_count": null,
   "metadata": {
    "collapsed": true
   },
   "outputs": [],
   "source": [
    "history = {}\n",
    "history['D_loss'] = []\n",
    "history['G_loss'] = []\n",
    "from tqdm import tqdm\n",
    "\n",
    "for epoch in tqdm(range(num_epochs)):\n",
    "    D_loss, G_loss = train(D, G, criterion, D_optim, G_optim, data_loader)\n",
    "    print('epoch %d, D_loss: %.4f G_loss: %.4f' % (epoch + 1, D_loss, G_loss))\n",
    "    history['D_loss'].append(D_loss)\n",
    "    history['G_loss'].append(G_loss)\n",
    "    \n",
    "    # 特定のエポックでGeneratorから画像を生成してモデルも保存\n",
    "    if epoch == 0 or epoch == 9 or epoch == 24:\n",
    "        generate(epoch + 1, G, log_dir)\n",
    "        torch.save(G.state_dict(), os.path.join(log_dir, 'G_%03d.pth' % (epoch + 1)))\n",
    "        torch.save(D.state_dict(), os.path.join(log_dir, 'D_%03d.pth' % (epoch + 1)))\n",
    "\n",
    "# 学習履歴を保存\n",
    "with open(os.path.join(log_dir, 'history.pkl'), 'wb') as f:\n",
    "    pickle.dump(history, f)    "
   ]
  },
  {
   "cell_type": "markdown",
   "metadata": {},
   "source": [
    "## 画像の表示"
   ]
  },
  {
   "cell_type": "code",
   "execution_count": null,
   "metadata": {
    "collapsed": true
   },
   "outputs": [],
   "source": [
    "from IPython.display import Image\n",
    "Image('logs/epoch_001.png')"
   ]
  },
  {
   "cell_type": "code",
   "execution_count": null,
   "metadata": {
    "collapsed": true
   },
   "outputs": [],
   "source": [
    "Image('logs/epoch_010.png')"
   ]
  },
  {
   "cell_type": "code",
   "execution_count": null,
   "metadata": {
    "collapsed": true
   },
   "outputs": [],
   "source": [
    "Image('logs/epoch_025.png')"
   ]
  }
 ],
 "metadata": {
  "kernelspec": {
   "display_name": "Python 3",
   "language": "python",
   "name": "python3"
  },
  "language_info": {
   "codemirror_mode": {
    "name": "ipython",
    "version": 3
   },
   "file_extension": ".py",
   "mimetype": "text/x-python",
   "name": "python",
   "nbconvert_exporter": "python",
   "pygments_lexer": "ipython3",
   "version": "3.6.3"
  }
 },
 "nbformat": 4,
 "nbformat_minor": 2
}
