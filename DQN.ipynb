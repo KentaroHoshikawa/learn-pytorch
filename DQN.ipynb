{
 "cells": [
  {
   "cell_type": "markdown",
   "metadata": {},
   "source": [
    "# DQN\n",
    "\n",
    "## 4つの工夫\n",
    "1. Experience Replay  \n",
    "メモリに各ステップの内容を保存しておいて、後からランダムに取り出して(replay)、ニューラルネットワークに学習させる方法。ここでの、1ステップの内容を **transition**とも呼ぶ。  \n",
    "殊、ゲームの学習では時間的な相関がとても高い。すなわち、隣接する時刻での学習内容が非常に似ているため、結合パラメータの学習が安定しづらいという問題がある。Experience Replayではこの問題が解消され、さらに、ミニバッチで学習させることもできる。\n",
    "\n",
    "2. Fixed Target Q-Network  \n",
    "行動を決定する**main network**と誤差関数の計算時に行動価値を求める**target network**の2種類のニューラルネットで構成される。\n",
    "Q学習では$Q(s_t, a)$と$\\max_a Q(s_{t+1}, a)$を求める必要があるが、両方を同じQ関数にすると更新が不安定になるらしい。そこで、後者については少し前の時間のQ関数(Fixed Target Q-network)を使って計算する。\n",
    "\n",
    "    少し前の時間のQ関数は結合パラメータが少し前ものであるという意味で、target networkは定期的にmain networkで上書きされる。\n",
    "3. 報酬のクリッピング  \n",
    "報酬の集合を制限する。\n",
    "例えば$\\{-1, 0 , 1\\}$\n",
    "4. Huber関数で誤差を計算\n",
    "$$\n",
    "    H(x, y) = \\begin{cases}\n",
    "        (x - y)^2 & |x - y| < 1 \\\\\n",
    "        |x - y|   & \\mathrm{otherwise} \n",
    "    \\end{cases}\n",
    "$$"
   ]
  },
  {
   "cell_type": "markdown",
   "metadata": {},
   "source": [
    "## PytorchでDQNを実装するときの注意点\n",
    "1. Experience Replay, (疑似的な)Fixed Target Q-Learningでミニバッチ学習を実行する点  \n",
    "棒が倒れたり、200ステップまで行ったら次状態$s_{t+1}$が存在しない。存在するか否かで、場合分けが必要\n",
    "\n",
    "2. Pytorchでのミニバッチの扱い方  \n",
    "ミニバッチの実装には慣れが必要\n",
    "\n",
    "3. データの型  \n",
    "CartPoleではNumpy型で扱うが、PyTorchではTorch.Tensorのテンソル型で扱う\n",
    "\n",
    "4. Torch.Tensorのサイズ  \n",
    "size 1のとsize 1×1のがあるから注意\n",
    "\n",
    "5. namedtupleの使用  \n",
    "python3.7だしdataclassでもええやろ"
   ]
  },
  {
   "cell_type": "code",
   "execution_count": 6,
   "metadata": {},
   "outputs": [],
   "source": [
    "import numpy as np\n",
    "import matplotlib.pyplot as plt\n",
    "%matplotlib inline\n",
    "import gym"
   ]
  },
  {
   "cell_type": "markdown",
   "metadata": {},
   "source": [
    "## 動画の保存部分"
   ]
  },
  {
   "cell_type": "code",
   "execution_count": 7,
   "metadata": {},
   "outputs": [],
   "source": [
    "from JSAnimation.IPython_display import display_animation\n",
    "from matplotlib import animation\n",
    "from IPython.display import display\n",
    "\n",
    "def display_frames_as_gif(frames):\n",
    "    plt.figure(figsize=(frames[0].shape[1]/72.0, frames[0].shape[0]/72.0),\n",
    "              dpi=72)\n",
    "    patch = plt.imshow(frames[0])\n",
    "    plt.axis(\"off\")\n",
    "    \n",
    "    def animate(i):\n",
    "        patch.set_data(frames[i])\n",
    "        \n",
    "    anim = animation.FuncAnimation(plt.gcf(), animate, frames=len(frames), interval=50)\n",
    "    \n",
    "    anim.save(\"movie_cartpole_DQN.mp4\")\n",
    "    display(display_animation(anim, defalt_mode=\"loop\"))"
   ]
  },
  {
   "cell_type": "markdown",
   "metadata": {},
   "source": [
    "## namedtupleの実装"
   ]
  },
  {
   "cell_type": "code",
   "execution_count": 1,
   "metadata": {},
   "outputs": [],
   "source": [
    "from collections import namedtuple\n",
    "\n",
    "Transition = namedtuple(\n",
    "\"Transition\", (\"state\", \"action\", \"next_state\", \"reward\"))"
   ]
  },
  {
   "cell_type": "markdown",
   "metadata": {},
   "source": [
    "## 定数宣言"
   ]
  },
  {
   "cell_type": "code",
   "execution_count": 2,
   "metadata": {},
   "outputs": [],
   "source": [
    "ENV = \"CartPole-v0\"\n",
    "GAMMA = 0.99 # discount rate\n",
    "MAX_STEPS = 200 \n",
    "NUM_EPISODES = 500 # 最大試行回数 "
   ]
  },
  {
   "cell_type": "markdown",
   "metadata": {},
   "source": [
    "## 経験を保存するメモリクラス\n",
    "元の実装とは違うがdequeのラッパとする"
   ]
  },
  {
   "cell_type": "code",
   "execution_count": 3,
   "metadata": {},
   "outputs": [],
   "source": [
    "from collections import deque\n",
    "\n",
    "class ReplayMemory:\n",
    "    def __init__(self, capacity):\n",
    "        self.__memory = deque(capacity)\n",
    "        \n",
    "    @property\n",
    "    def capacity(self): return len(self.__memory)\n",
    "    \n",
    "    @property\n",
    "    def memory(self): return self.__memory\n",
    "    \n",
    "    def push(self, state, action, state_next, reward):\n",
    "        self.memory.push(Transition(state, action, state_next, reward))\n",
    "        \n",
    "    def sample(self, batch_size):\n",
    "        return random.sample(self.__memory, batch_size)\n",
    "    \n",
    "    def __len__(self) : return len(self.__memory)\n",
    "    "
   ]
  },
  {
   "cell_type": "markdown",
   "metadata": {},
   "source": [
    "## 行動決定器"
   ]
  },
  {
   "cell_type": "code",
   "execution_count": 4,
   "metadata": {},
   "outputs": [],
   "source": [
    "import random\n",
    "import torch\n",
    "from torch import nn, optim\n",
    "import torch.nn.functional as F\n",
    "\n",
    "BATCH_SIZE = 32\n",
    "CAPACITY = 10000\n",
    "\n",
    "class Brain:\n",
    "    def __init__(self, num_states, num_actions):\n",
    "        self.num_actions = num_actions\n",
    "        self.memory = ReplayMemory(CAPACITY)\n",
    "        \n",
    "        # NNの構築\n",
    "        self.model =  nn.Sequential()\n",
    "        add = self.model.add_module\n",
    "        add(\"fc1\", nn.Linear(num_states, 32))\n",
    "        add(\"relu1\", nn.ReLU())\n",
    "        add(\"fc2\", nn.Linear(32,32))\n",
    "        add(\"relu2\", nn.ReLU())\n",
    "        add(\"fc3\", nn.Linear(32, num_actions))\n",
    "        \n",
    "        print(self.model)\n",
    "        \n",
    "        # 最適化手法\n",
    "        self.optimizer = optim.Adam(self.model.parameters(), lr=0.0001)\n",
    "        \n",
    "    def replay(self):\n",
    "        '''Experience Replayで結合パラメータを学習'''\n",
    "        \n",
    "        # メモリサイズのチェック\n",
    "        if len(self.memory) < BATCH_SIZE:\n",
    "            return\n",
    "        \n",
    "        # ミニバッチの作成\n",
    "        transitions = self.memory.sample(BATCH_SIZE)\n",
    "        \n",
    "        # (s,a,s,r) * BATCH_SIZE -> (s * BATCH_SIZE, a * BATCH_SIZE, s * BATCH_SIZE, r * BATCH_SIZE)に変形\n",
    "        batch = Transition(*zip(*transitions))\n",
    "        \n",
    "        #---------------------------------------------\n",
    "        # torch.cat(seq, dim=0, out=None) → Tensor\n",
    "        # \n",
    "        #---------------------------------------------\n",
    "        state_batch = torch.cat(batch.state)\n",
    "        action_batch = torch.cat(batch.action)\n",
    "        reward_batch = torch.cat(batch.reward)\n",
    "        non_final_next_states = torch.cat([s for s in batch.next_state if s is not None])\n",
    "        \n",
    "        # S(s_t, a_t)を求める\n",
    "        #　推論モードに切り替え\n",
    "        self.model.eval()\n",
    "        \n",
    "        # torch.gather(input, dim, index, out=None) → Tensor\n",
    "        # action_batchで行動を固定してQ(s)を取得する\n",
    "        state_action_values = self.model(state_batch).gather(1, action_batch)\n",
    "        \n",
    "        # max_a Q(s_{t+1}, a)を求める\n",
    "        \n",
    "        non_final_mask = torch.ByteTensor(\n",
    "            tuple(map(lambda s: s is not None, batch.next_state)))\n",
    "        next_state_values = torch.zeros(BATCH_SIZE)\n",
    "        \n",
    "        next_state_values[non_final_mask] = self.model(\n",
    "            non_final_next_states).max(1)[0].detach()\n",
    "        \n",
    "        # 教師信号Q(s_t, a_t)\n",
    "        expected_state_action_values = reward_batch + GAMMA * next_state_values\n",
    "        \n",
    "        #-------------------------------\n",
    "        # 結合パラメータ更新フェーズ\n",
    "        #-------------------------------\n",
    "        self.model.train()\n",
    "        \n",
    "        # torch.unsqueeze(input, dim, out=None) → Tensor\n",
    "        # \n",
    "        loss = F.smooth_l1_loss(state_action_values,\n",
    "                               expected_state_action_values.unsqueeze(1))\n",
    "        \n",
    "        # 更新\n",
    "        self.optimizer.zero_grad() # 勾配をリセット\n",
    "        loss.backward()            # BPを計算\n",
    "        self.optimizer.step()      # 結合パラメータの更新\n",
    "        \n",
    "    def decide_action(self, state, episode):\n",
    "        \"\"\"\n",
    "        εーグリーディで行動選択\n",
    "        return torch.LongTensor of size 1x1\n",
    "        \"\"\"\n",
    "        eps = 0.5 * (1 / (episode  +1))\n",
    "        \n",
    "        if eps <= np.random.uniform(0,1):\n",
    "            self.model.eval()\n",
    "            with torch.no_grad():\n",
    "                action = self.model(state).max(1)[1].view(1,1)\n",
    "        else:\n",
    "            action = torch.LongTensor(\n",
    "                [[random.randrange(self.num_actions)]])\n",
    "            \n",
    "        return action"
   ]
  },
  {
   "cell_type": "markdown",
   "metadata": {},
   "source": [
    "## CartPoleで動くエージェントのクラス"
   ]
  },
  {
   "cell_type": "code",
   "execution_count": 5,
   "metadata": {},
   "outputs": [],
   "source": [
    "class Agent:\n",
    "    def __init__(self, num_states, num_actions):\n",
    "        self.brain = Brain(num_states, num_actions)\n",
    "        \n",
    "    def update_q_func(self):\n",
    "        self.brain.replay()\n",
    "        \n",
    "    def get_action(self, state, episode):\n",
    "        return self.brain.decide_action(state, episode)\n",
    "    \n",
    "    def memorize(self, state, action, state_next, reward):\n",
    "        self.brain.memory.push(state, action, state_next, reward)\n",
    "        "
   ]
  },
  {
   "cell_type": "markdown",
   "metadata": {},
   "source": [
    "## 環境のクラス"
   ]
  },
  {
   "cell_type": "code",
   "execution_count": 8,
   "metadata": {},
   "outputs": [],
   "source": [
    "class Environment:\n",
    "    def __init__(self):\n",
    "        self.env = gym.make(ENV)\n",
    "        self.num_states = self.env.obervation_space.shape[0]\n",
    "        self.num_action = self.env.action_space.n\n",
    "        \n",
    "        self.agent : Agent = Agent(self.num_states, self.num_action)\n",
    "        \n",
    "    def run(self):\n",
    "        episode_10_list = np.zeros(10)\n",
    "        \n",
    "        complete_episodes = 0\n",
    "        episode_final = False\n",
    "        frames = []\n",
    "        \n",
    "        for episode in range(NUM_EPISODES): # 試行のループ\n",
    "            observation = self.env.reset() # 環境の初期化\n",
    "            \n",
    "            state = __numpy2tensor_state(observation)            \n",
    "            for step in range(MAX_STEPS):\n",
    "                if episode_final :\n",
    "                    frames.append(self.env.render(mode=\"rgb_array\"))\n",
    "                \n",
    "                action = self.agent.get_action(state, episode)\n",
    "                \n",
    "                # _ はそれぞれ、reward, info\n",
    "                observation_next, _ ,next , done, _ = self.env.step(action.item())\n",
    "                \n",
    "                if done: # 200step経過 or コケる\n",
    "                    state_next = None\n",
    "                    # numpy.hstack 水平方向に連接\n",
    "                    episode_10_list = np.hstack(episode_10_list[1:], step+1)\n",
    "                    \n",
    "                    if step < 195: #コケて終了は-1\n",
    "                        reward =torch.FloatTensor([-1.0])\n",
    "                        complete_episodes=0\n",
    "                    else:         # 生き残ったら+1\n",
    "                        reward = torch.FloatTensor([1.0])\n",
    "                        complete_episodes += 1\n",
    "                else:\n",
    "                    reward = torch.FloatTensor([0.0])\n",
    "                    state = __numpy2tensor_state(observation_next)\n",
    "                    \n",
    "                    self.agent.memorize(state, action, state_next, reward)\n",
    "                    self.agent.update_q_func()\n",
    "                    \n",
    "                    state = state_next\n",
    "                    \n",
    "            if episode_final:\n",
    "                display_frames_as_gif(frames)\n",
    "                break\n",
    "            \n",
    "            if complete_episodes  >=10:\n",
    "                print(\"10回連続成功\")\n",
    "                episode_final = True\n",
    "                \n",
    "                \n",
    "    @staticmethod\n",
    "    def __numpy2tensor_state(state):\n",
    "        # numpy -> torch.FloatTensor\n",
    "        state = torch.from_numpy(state).type(torch.FloatTensor)\n",
    "\n",
    "        # FloatTensor of size 4 -> FloatTensor of 1x4 \n",
    "        return torch.unsqueeze(state ,0)"
   ]
  },
  {
   "cell_type": "markdown",
   "metadata": {},
   "source": [
    "## main"
   ]
  },
  {
   "cell_type": "code",
   "execution_count": null,
   "metadata": {},
   "outputs": [],
   "source": [
    "cartpole_env = Environment()\n",
    "cartpole_env.run()"
   ]
  }
 ],
 "metadata": {
  "kernelspec": {
   "display_name": "Python 3",
   "language": "python",
   "name": "python3"
  },
  "language_info": {
   "codemirror_mode": {
    "name": "ipython",
    "version": 3
   },
   "file_extension": ".py",
   "mimetype": "text/x-python",
   "name": "python",
   "nbconvert_exporter": "python",
   "pygments_lexer": "ipython3",
   "version": "3.7.0"
  }
 },
 "nbformat": 4,
 "nbformat_minor": 2
}
